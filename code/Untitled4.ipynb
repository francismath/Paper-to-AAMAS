{
 "cells": [
  {
   "cell_type": "code",
   "execution_count": 1,
   "id": "3e72ed7b",
   "metadata": {},
   "outputs": [
    {
     "ename": "NameError",
     "evalue": "name 'legend' is not defined",
     "output_type": "error",
     "traceback": [
      "\u001b[1;31m---------------------------------------------------------------------------\u001b[0m",
      "\u001b[1;31mNameError\u001b[0m                                 Traceback (most recent call last)",
      "Cell \u001b[1;32mIn[1], line 1\u001b[0m\n\u001b[1;32m----> 1\u001b[0m \u001b[43mlegend\u001b[49m()\n\u001b[0;32m      2\u001b[0m legend(handles, labels)\n\u001b[0;32m      3\u001b[0m legend(handles\u001b[38;5;241m=\u001b[39mhandles)\n",
      "\u001b[1;31mNameError\u001b[0m: name 'legend' is not defined"
     ]
    }
   ],
   "source": [
    "legend()\n",
    "legend(handles, labels)\n",
    "legend(handles=handles)\n",
    "legend(labels)\n",
    "\n",
    "ax.plot([1, 2, 3], label='Inline label')\n",
    "ax.legend()\n",
    "\n",
    "ax.legend([line1, line2, line3], ['label1', 'label2', 'label3'])"
   ]
  }
 ],
 "metadata": {
  "kernelspec": {
   "display_name": "Python 3 (ipykernel)",
   "language": "python",
   "name": "python3"
  },
  "language_info": {
   "codemirror_mode": {
    "name": "ipython",
    "version": 3
   },
   "file_extension": ".py",
   "mimetype": "text/x-python",
   "name": "python",
   "nbconvert_exporter": "python",
   "pygments_lexer": "ipython3",
   "version": "3.11.2"
  }
 },
 "nbformat": 4,
 "nbformat_minor": 5
}
