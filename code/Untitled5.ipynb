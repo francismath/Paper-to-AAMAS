{
 "cells": [
  {
   "cell_type": "code",
   "execution_count": 1,
   "id": "0cdb1206",
   "metadata": {},
   "outputs": [
    {
     "name": "stdout",
     "output_type": "stream",
     "text": [
      "Final employment status:\n",
      "Employed: 93\n",
      "Unemployed: 7\n"
     ]
    }
   ],
   "source": [
    "import random\n",
    "\n",
    "class Agent:\n",
    "    def __init__(self, age, employed):\n",
    "        self.age = age\n",
    "        self.employed = employed\n",
    "\n",
    "    def increment_age(self):\n",
    "        self.age += 1\n",
    "\n",
    "    def transition_employment(self, unemployment_rate):\n",
    "        if self.employed:\n",
    "            if random.random() < unemployment_rate:\n",
    "                self.employed = False\n",
    "        else:\n",
    "            if random.random() < (1 - unemployment_rate):\n",
    "                self.employed = True\n",
    "\n",
    "# Model parameters\n",
    "population_size = 100\n",
    "initial_unemployment_rate = 0.1\n",
    "simulation_duration = 10\n",
    "\n",
    "# Create agents\n",
    "agents = []\n",
    "for _ in range(population_size):\n",
    "    age = random.randint(18, 65)  # Initial age between 18 and 65\n",
    "    employed = random.random() > initial_unemployment_rate\n",
    "    agent = Agent(age, employed)\n",
    "    agents.append(agent)\n",
    "\n",
    "# Simulation\n",
    "for year in range(simulation_duration):\n",
    "    unemployment_rate = random.uniform(0.05, 0.15)  # Update unemployment rate each year\n",
    "\n",
    "    # Age and employment dynamics\n",
    "    for agent in agents:\n",
    "        agent.increment_age()\n",
    "        agent.transition_employment(unemployment_rate)\n",
    "\n",
    "    # Collect statistics or perform analysis for each year\n",
    "\n",
    "# Print final employment status\n",
    "employed_agents = [agent for agent in agents if agent.employed]\n",
    "unemployed_agents = [agent for agent in agents if not agent.employed]\n",
    "\n",
    "print(f\"Final employment status:\")\n",
    "print(f\"Employed: {len(employed_agents)}\")\n",
    "print(f\"Unemployed: {len(unemployed_agents)}\")\n"
   ]
  }
 ],
 "metadata": {
  "kernelspec": {
   "display_name": "Python 3 (ipykernel)",
   "language": "python",
   "name": "python3"
  },
  "language_info": {
   "codemirror_mode": {
    "name": "ipython",
    "version": 3
   },
   "file_extension": ".py",
   "mimetype": "text/x-python",
   "name": "python",
   "nbconvert_exporter": "python",
   "pygments_lexer": "ipython3",
   "version": "3.11.2"
  }
 },
 "nbformat": 4,
 "nbformat_minor": 5
}
