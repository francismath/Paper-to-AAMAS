{
 "cells": [
  {
   "cell_type": "code",
   "execution_count": null,
   "metadata": {},
   "outputs": [],
   "source": [
    "# google agent based model labor market python\n",
    "# https://github.com/Limor-Raviv/Tutorial_Agent_Based_Models/blob/master/Part%202%20-%20A%20Simple%20Agent%20Based%20Model%20in%20Python.ipynb\n",
    "# https://towardsdatascience.com/introduction-to-mesa-agent-based-modeling-in-python-bcb0596e1c9a"
   ]
  },
  {
   "cell_type": "code",
   "execution_count": 21,
   "metadata": {},
   "outputs": [
    {
     "data": {
      "text/plain": [
       "'h'"
      ]
     },
     "execution_count": 21,
     "metadata": {},
     "output_type": "execute_result"
    }
   ],
   "source": [
    "\"\"\"Assumptions\n",
    "1. The birth rate is equal to the mortality rate, \n",
    "so the total population remains a constant\n",
    "2. The newborns directly enter the labor market as a labor force\n",
    "3. All firms produce and sell the same product but with integer pricing \n",
    "ranging from 1 to 100\n",
    "4. young consumers will only do one search, here we don't take unemployed\n",
    "or women who usually have the shopping propensity of two searches. \n",
    "4. The firms first post their individual prices. \n",
    "\n",
    "If here comes a consumer with one search, a product-consumer \n",
    "pair is formed, whether the consumer is working or not. \n",
    "\n",
    "If the consumer has propensity of two search, \n",
    "then her action depends on the time of her search: \n",
    "if it's her first time searching, she would do a second search.\n",
    "if it's indeed the second time searching, she will compare the prices \n",
    "between the two posted prices, and make a deal with the firm posting \n",
    "lower price.\n",
    "\n",
    "So if the consumer is flexible and has a different variant than the producer, we want to update the listener's vowel based on the producer's vowel.\n",
    "\n",
    "To do this, we'll need to use a function called \"deepcopy\" to make a copy of the producer rather than pointing to the producer itself, because otherwise Python will have these two agents linked togeher forever. This is of course unwanted, since we want to update the listener only once based on a single interaction. Therefore, we'll use function called \"deepcopy\", which basically does what we want except for not linking the actual agents together.\n",
    "\"\"\"\n",
    "# setting the properties of a typical agent\n",
    "\n",
    "age = ['retired', 'la'] # consumer's age, retired or labor force\n",
    "\n",
    "shop_prop = ['1 search', '2 searches'] # shopping propensity of a typical agent, some may only buy the product after one search, others may make purchase decision after multiply searches \n",
    "\n",
    "sell_price = ['h', 'l'] # selling price could be high or low\n",
    "\n",
    "# produce the agents of consumer with two attributes: their age and shopping propensity\n",
    "def consumer(age, shop_pro):\n",
    "\n",
    "    return [age, shop_pro]\n",
    "\n",
    "\n",
    "# produce the agents of firm with attribute of the selling price\n",
    "def firm(sell_price):\n",
    "\n",
    "    return sell_price\n",
    "\n",
    "# we can produce a working agent with shopping propensity of 2 searches\n",
    "\n",
    "a0 = consumer(age[1], shop_prop[1])\n",
    "a1 = firm(sell_price[0])\n",
    "a1"
   ]
  },
  {
   "cell_type": "code",
   "execution_count": 18,
   "metadata": {},
   "outputs": [
    {
     "ename": "ValueError",
     "evalue": "list.remove(x): x not in list",
     "output_type": "error",
     "traceback": [
      "\u001b[1;31m---------------------------------------------------------------------------\u001b[0m",
      "\u001b[1;31mValueError\u001b[0m                                Traceback (most recent call last)",
      "Cell \u001b[1;32mIn[18], line 40\u001b[0m\n\u001b[0;32m     37\u001b[0m                 population\u001b[38;5;241m.\u001b[39mremove(agent)\n\u001b[0;32m     38\u001b[0m     \u001b[38;5;28;01mreturn\u001b[39;00m population\n\u001b[1;32m---> 40\u001b[0m population \u001b[38;5;241m=\u001b[39m \u001b[43mprod_pop\u001b[49m\u001b[43m(\u001b[49m\u001b[38;5;241;43m20\u001b[39;49m\u001b[43m)\u001b[49m\n\u001b[0;32m     41\u001b[0m \u001b[38;5;28mprint\u001b[39m(population)\n",
      "Cell \u001b[1;32mIn[18], line 28\u001b[0m, in \u001b[0;36mprod_pop\u001b[1;34m(N)\u001b[0m\n\u001b[0;32m     26\u001b[0m       population\u001b[38;5;241m.\u001b[39mremove(agent)\n\u001b[0;32m     27\u001b[0m     \u001b[38;5;28;01mif\u001b[39;00m agent[\u001b[38;5;241m0\u001b[39m] \u001b[38;5;241m==\u001b[39m \u001b[38;5;124m'\u001b[39m\u001b[38;5;124mretired\u001b[39m\u001b[38;5;124m'\u001b[39m \u001b[38;5;129;01mand\u001b[39;00m agent[\u001b[38;5;241m1\u001b[39m] \u001b[38;5;241m==\u001b[39m \u001b[38;5;124m'\u001b[39m\u001b[38;5;124m1 search\u001b[39m\u001b[38;5;124m'\u001b[39m:\n\u001b[1;32m---> 28\u001b[0m       \u001b[43mpopulation\u001b[49m\u001b[38;5;241;43m.\u001b[39;49m\u001b[43mremove\u001b[49m\u001b[43m(\u001b[49m\u001b[43magent\u001b[49m\u001b[43m)\u001b[49m\n\u001b[0;32m     30\u001b[0m     population\u001b[38;5;241m.\u001b[39mappend(agent)\n\u001b[0;32m     32\u001b[0m ret \u001b[38;5;241m=\u001b[39m \u001b[38;5;241m0\u001b[39m \u001b[38;5;66;03m# initial number of the retired   \u001b[39;00m\n",
      "\u001b[1;31mValueError\u001b[0m: list.remove(x): x not in list"
     ]
    }
   ],
   "source": [
    "# produce N randomly selected people in the environment\n",
    "import random\n",
    "\n",
    "def prod_pop(N):#produce population of N people\n",
    "    \n",
    "    population = []\n",
    "    \n",
    "    for person in range(N):\n",
    "        \n",
    "        ws = random.choice(age)\n",
    "        \n",
    "        sp = random.choice(shop_prop)\n",
    "        \n",
    "        agent = produce_agent(ws, sp)\n",
    "        \n",
    "#        if agent.age > 15 and agent.age <= 80:\n",
    "#            population.append(agent)\n",
    "#        if agent.age > 80:\n",
    "#            population.remove(agent)\n",
    "        '''assume among the 4 types of consumers, [r,1],[r,2],[la,1],[la,2]\n",
    "        only [la,1] and [r,2] exist, which means labor force only do one search\n",
    "        and the retired do two searches\n",
    "        '''\n",
    "        \n",
    "        if agent[0] == 'la' and agent[1] == '2 searches':\n",
    "          population.remove(agent)\n",
    "        if agent[0] == 'retired' and agent[1] == '1 search':\n",
    "          population.remove(agent)\n",
    "        \n",
    "        population.append(agent)\n",
    "    \n",
    "    ret = 0 # initial number of the retired   \n",
    "    for agent in population:\n",
    "        if agent[0] == 'retired':\n",
    "            ret += 1            \n",
    "            if ret / (len(population)-ret) > 0.4:\n",
    "                population.remove(agent)\n",
    "    return population\n",
    "\n",
    "population = prod_pop(20)\n",
    "print(population)"
   ]
  },
  {
   "cell_type": "code",
   "execution_count": null,
   "metadata": {},
   "outputs": [],
   "source": [
    "def pop_dyn():# population dynamics\n",
    "    '''\n",
    "    A consumer over 15 years old works and begins shopping\n",
    "    anyone over 80 years old dies\n",
    "    ''' \n",
    "    consumer = 0\n",
    "    for person in population:\n",
    "        if person.age > 15 and person.age <= 80:\n",
    "            consumer +=1\n",
    "        if person.age > 80:\n",
    "            population.remove(person)\n",
    "        else:\n",
    "            person.age +=1"
   ]
  },
  {
   "cell_type": "code",
   "execution_count": 7,
   "metadata": {},
   "outputs": [
    {
     "ename": "ZeroDivisionError",
     "evalue": "float division by zero",
     "output_type": "error",
     "traceback": [
      "\u001b[1;31m---------------------------------------------------------------------------\u001b[0m",
      "\u001b[1;31mZeroDivisionError\u001b[0m                         Traceback (most recent call last)",
      "Cell \u001b[1;32mIn[7], line 11\u001b[0m\n\u001b[0;32m      8\u001b[0m     \u001b[38;5;66;03m#return \"{0:.2f}%\".format(ret / (len(population)-ret) * 100)\u001b[39;00m\n\u001b[0;32m      9\u001b[0m     \u001b[38;5;28;01mreturn\u001b[39;00m ret \u001b[38;5;241m/\u001b[39m (\u001b[38;5;28mlen\u001b[39m(population)\u001b[38;5;241m-\u001b[39mret)\n\u001b[1;32m---> 11\u001b[0m \u001b[43mdep_ratio\u001b[49m\u001b[43m(\u001b[49m\u001b[43mpopulation\u001b[49m\u001b[43m)\u001b[49m\n",
      "Cell \u001b[1;32mIn[7], line 9\u001b[0m, in \u001b[0;36mdep_ratio\u001b[1;34m(population)\u001b[0m\n\u001b[0;32m      7\u001b[0m         ret \u001b[38;5;241m+\u001b[39m\u001b[38;5;241m=\u001b[39m \u001b[38;5;241m1\u001b[39m            \n\u001b[0;32m      8\u001b[0m \u001b[38;5;66;03m#return \"{0:.2f}%\".format(ret / (len(population)-ret) * 100)\u001b[39;00m\n\u001b[1;32m----> 9\u001b[0m \u001b[38;5;28;01mreturn\u001b[39;00m \u001b[43mret\u001b[49m\u001b[43m \u001b[49m\u001b[38;5;241;43m/\u001b[39;49m\u001b[43m \u001b[49m\u001b[43m(\u001b[49m\u001b[38;5;28;43mlen\u001b[39;49m\u001b[43m(\u001b[49m\u001b[43mpopulation\u001b[49m\u001b[43m)\u001b[49m\u001b[38;5;241;43m-\u001b[39;49m\u001b[43mret\u001b[49m\u001b[43m)\u001b[49m\n",
      "\u001b[1;31mZeroDivisionError\u001b[0m: float division by zero"
     ]
    }
   ],
   "source": [
    "# dep_ratio aims to calculate the aged dependency ratio, that is, the proportion of agents with the attribute 'retired' in the population\n",
    "\n",
    "def dep_ratio(population):\n",
    "    ret = 0. # initial # of the retired     \n",
    "    for agent in population:\n",
    "        if agent[0] == 'retired':\n",
    "            ret += 1            \n",
    "    #return \"{0:.2f}%\".format(ret / (len(population)-ret) * 100)\n",
    "    return ret / (len(population)-ret)\n",
    "\n",
    "dep_ratio(population)\n"
   ]
  }
 ],
 "metadata": {
  "kernelspec": {
   "display_name": "Python 3 (ipykernel)",
   "language": "python",
   "name": "python3"
  },
  "language_info": {
   "codemirror_mode": {
    "name": "ipython",
    "version": 3
   },
   "file_extension": ".py",
   "mimetype": "text/x-python",
   "name": "python",
   "nbconvert_exporter": "python",
   "pygments_lexer": "ipython3",
   "version": "3.11.2"
  }
 },
 "nbformat": 4,
 "nbformat_minor": 4
}
