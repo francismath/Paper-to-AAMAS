{
 "cells": [
  {
   "cell_type": "code",
   "execution_count": 5,
   "id": "b6548321",
   "metadata": {},
   "outputs": [
    {
     "ename": "AttributeError",
     "evalue": "'Page' object has no attribute '_graft_id'",
     "output_type": "error",
     "traceback": [
      "\u001b[1;31m---------------------------------------------------------------------------\u001b[0m",
      "\u001b[1;31mAttributeError\u001b[0m                            Traceback (most recent call last)",
      "Cell \u001b[1;32mIn[5], line 42\u001b[0m\n\u001b[0;32m     39\u001b[0m output_pdf_path \u001b[38;5;241m=\u001b[39m \u001b[38;5;124m\"\u001b[39m\u001b[38;5;124m160401-170331-1.pdf\u001b[39m\u001b[38;5;124m\"\u001b[39m\n\u001b[0;32m     40\u001b[0m keyword_to_highlight \u001b[38;5;241m=\u001b[39m \u001b[38;5;124m\"\u001b[39m\u001b[38;5;124m上海海洋大学\u001b[39m\u001b[38;5;124m\"\u001b[39m\n\u001b[1;32m---> 42\u001b[0m \u001b[43mhighlight_rows_with_keyword\u001b[49m\u001b[43m(\u001b[49m\u001b[43minput_pdf_path\u001b[49m\u001b[43m,\u001b[49m\u001b[43m \u001b[49m\u001b[43mkeyword_to_highlight\u001b[49m\u001b[43m,\u001b[49m\u001b[43m \u001b[49m\u001b[43moutput_pdf_path\u001b[49m\u001b[43m)\u001b[49m\n",
      "Cell \u001b[1;32mIn[5], line 28\u001b[0m, in \u001b[0;36mhighlight_rows_with_keyword\u001b[1;34m(pdf_path, keyword, output_path)\u001b[0m\n\u001b[0;32m     25\u001b[0m             rect_annot\u001b[38;5;241m.\u001b[39mset_colors(stroke\u001b[38;5;241m=\u001b[39m(\u001b[38;5;241m1\u001b[39m, \u001b[38;5;241m0\u001b[39m, \u001b[38;5;241m0\u001b[39m), fill\u001b[38;5;241m=\u001b[39m(\u001b[38;5;241m0\u001b[39m, \u001b[38;5;241m0\u001b[39m, \u001b[38;5;241m0\u001b[39m, \u001b[38;5;241m0\u001b[39m))\n\u001b[0;32m     26\u001b[0m             rect_annot\u001b[38;5;241m.\u001b[39mupdate()\n\u001b[1;32m---> 28\u001b[0m     \u001b[43mpdf_writer\u001b[49m\u001b[38;5;241;43m.\u001b[39;49m\u001b[43minsert_pdf\u001b[49m\u001b[43m(\u001b[49m\u001b[43mpage\u001b[49m\u001b[43m,\u001b[49m\u001b[43m \u001b[49m\u001b[43mto_page\u001b[49m\u001b[38;5;241;43m=\u001b[39;49m\u001b[38;5;241;43m-\u001b[39;49m\u001b[38;5;241;43m1\u001b[39;49m\u001b[43m)\u001b[49m\n\u001b[0;32m     30\u001b[0m \u001b[38;5;66;03m# Save the modified PDF\u001b[39;00m\n\u001b[0;32m     31\u001b[0m pdf_writer\u001b[38;5;241m.\u001b[39msave(output_path)\n",
      "File \u001b[1;32m~\\AppData\\Local\\Programs\\Python\\Python311\\Lib\\site-packages\\fitz\\fitz.py:4668\u001b[0m, in \u001b[0;36mDocument.insert_pdf\u001b[1;34m(self, docsrc, from_page, to_page, start_at, rotate, links, annots, show_progress, final, _gmap)\u001b[0m\n\u001b[0;32m   4666\u001b[0m \u001b[38;5;28;01mif\u001b[39;00m \u001b[38;5;28mself\u001b[39m\u001b[38;5;241m.\u001b[39mis_closed \u001b[38;5;129;01mor\u001b[39;00m \u001b[38;5;28mself\u001b[39m\u001b[38;5;241m.\u001b[39mis_encrypted:\n\u001b[0;32m   4667\u001b[0m     \u001b[38;5;28;01mraise\u001b[39;00m \u001b[38;5;167;01mValueError\u001b[39;00m(\u001b[38;5;124m\"\u001b[39m\u001b[38;5;124mdocument closed or encrypted\u001b[39m\u001b[38;5;124m\"\u001b[39m)\n\u001b[1;32m-> 4668\u001b[0m \u001b[38;5;28;01mif\u001b[39;00m \u001b[38;5;28mself\u001b[39m\u001b[38;5;241m.\u001b[39m_graft_id \u001b[38;5;241m==\u001b[39m \u001b[43mdocsrc\u001b[49m\u001b[38;5;241;43m.\u001b[39;49m\u001b[43m_graft_id\u001b[49m:\n\u001b[0;32m   4669\u001b[0m     \u001b[38;5;28;01mraise\u001b[39;00m \u001b[38;5;167;01mValueError\u001b[39;00m(\u001b[38;5;124m\"\u001b[39m\u001b[38;5;124msource and target cannot be same object\u001b[39m\u001b[38;5;124m\"\u001b[39m)\n\u001b[0;32m   4670\u001b[0m sa \u001b[38;5;241m=\u001b[39m start_at\n",
      "\u001b[1;31mAttributeError\u001b[0m: 'Page' object has no attribute '_graft_id'"
     ]
    }
   ],
   "source": [
    "import fitz  # PyMuPDF\n",
    "\n",
    "def highlight_rows_with_keyword(pdf_path, keyword, output_path):\n",
    "    pdf_document = fitz.open(pdf_path)\n",
    "    pdf_writer = fitz.open()\n",
    "\n",
    "    for page_number in range(pdf_document.page_count):\n",
    "        page = pdf_document[page_number]\n",
    "        page_text = page.get_text(\"text\")\n",
    "\n",
    "        # Split the page's text into lines\n",
    "        lines = page_text.split('\\n')\n",
    "\n",
    "        # Find rows containing the keyword\n",
    "        keyword_rows = [line for line in lines if keyword in line]\n",
    "\n",
    "        if keyword_rows:\n",
    "            # Iterate through the keyword-containing rows\n",
    "            for row in keyword_rows:\n",
    "                row_index = lines.index(row)\n",
    "                rect = fitz.Rect(0, row_index * 10, 600, (row_index + 1) * 10)  # Adjust these values\n",
    "\n",
    "                # Create a rectangle annotation to overlay the text\n",
    "                rect_annot = page.add_rect_annot(rect)\n",
    "                rect_annot.set_colors(stroke=(1, 0, 0), fill=(0, 0, 0, 0))\n",
    "                rect_annot.update()\n",
    "\n",
    "        pdf_writer.insert_pdf(page, to_page=-1)\n",
    "\n",
    "    # Save the modified PDF\n",
    "    pdf_writer.save(output_path)\n",
    "    pdf_writer.close()\n",
    "    pdf_document.close()\n",
    "\n",
    "\n",
    "\n",
    "if __name__ == \"__main__\":\n",
    "    input_pdf_path = \"160401-170331.pdf\"\n",
    "    output_pdf_path = \"160401-170331-1.pdf\"\n",
    "    keyword_to_highlight = \"上海海洋大学\"\n",
    "\n",
    "    highlight_rows_with_keyword(input_pdf_path, keyword_to_highlight, output_pdf_path)\n"
   ]
  },
  {
   "cell_type": "code",
   "execution_count": 6,
   "id": "102abbbd",
   "metadata": {
    "scrolled": true
   },
   "outputs": [
    {
     "name": "stdout",
     "output_type": "stream",
     "text": [
      "Collecting pdfplumberNote: you may need to restart the kernel to use updated packages.\n"
     ]
    },
    {
     "name": "stderr",
     "output_type": "stream",
     "text": [
      "\n",
      "[notice] A new release of pip is available: 23.0.1 -> 23.2.1\n",
      "[notice] To update, run: python.exe -m pip install --upgrade pip\n"
     ]
    },
    {
     "name": "stdout",
     "output_type": "stream",
     "text": [
      "\n",
      "  Downloading pdfplumber-0.10.2-py3-none-any.whl (47 kB)\n",
      "     ---------------------------------------- 0.0/47.5 kB ? eta -:--:--\n",
      "     ---------------------------------------- 47.5/47.5 kB ? eta 0:00:00\n",
      "Collecting pdfminer.six==20221105\n",
      "  Downloading pdfminer.six-20221105-py3-none-any.whl (5.6 MB)\n",
      "     ---------------------------------------- 0.0/5.6 MB ? eta -:--:--\n",
      "     -- ------------------------------------- 0.4/5.6 MB 8.5 MB/s eta 0:00:01\n",
      "     ------------ --------------------------- 1.7/5.6 MB 18.1 MB/s eta 0:00:01\n",
      "     ---------------------- ----------------- 3.2/5.6 MB 22.6 MB/s eta 0:00:01\n",
      "     ----------------------------------- ---- 4.9/5.6 MB 26.3 MB/s eta 0:00:01\n",
      "     ---------------------------------------  5.6/5.6 MB 27.6 MB/s eta 0:00:01\n",
      "     ---------------------------------------- 5.6/5.6 MB 21.1 MB/s eta 0:00:00\n",
      "Requirement already satisfied: Pillow>=9.1 in c:\\users\\enmao\\appdata\\local\\programs\\python\\python311\\lib\\site-packages (from pdfplumber) (9.4.0)\n",
      "Collecting pypdfium2>=4.18.0\n",
      "  Downloading pypdfium2-4.18.0-py3-none-win_amd64.whl (2.7 MB)\n",
      "     ---------------------------------------- 0.0/2.7 MB ? eta -:--:--\n",
      "     ------------------ --------------------- 1.2/2.7 MB 38.1 MB/s eta 0:00:01\n",
      "     ---------------------------------------  2.7/2.7 MB 34.7 MB/s eta 0:00:01\n",
      "     ---------------------------------------- 2.7/2.7 MB 24.7 MB/s eta 0:00:00\n",
      "Requirement already satisfied: charset-normalizer>=2.0.0 in c:\\users\\enmao\\appdata\\roaming\\python\\python311\\site-packages (from pdfminer.six==20221105->pdfplumber) (3.1.0)\n",
      "Requirement already satisfied: cryptography>=36.0.0 in c:\\users\\enmao\\appdata\\local\\programs\\python\\python311\\lib\\site-packages (from pdfminer.six==20221105->pdfplumber) (40.0.2)\n",
      "Requirement already satisfied: cffi>=1.12 in c:\\users\\enmao\\appdata\\local\\programs\\python\\python311\\lib\\site-packages (from cryptography>=36.0.0->pdfminer.six==20221105->pdfplumber) (1.15.1)\n",
      "Requirement already satisfied: pycparser in c:\\users\\enmao\\appdata\\local\\programs\\python\\python311\\lib\\site-packages (from cffi>=1.12->cryptography>=36.0.0->pdfminer.six==20221105->pdfplumber) (2.21)\n",
      "Installing collected packages: pypdfium2, pdfminer.six, pdfplumber\n",
      "Successfully installed pdfminer.six-20221105 pdfplumber-0.10.2 pypdfium2-4.18.0\n"
     ]
    }
   ],
   "source": [
    "pip install pdfplumber\n"
   ]
  },
  {
   "cell_type": "code",
   "execution_count": 9,
   "id": "453d4e01",
   "metadata": {
    "scrolled": true
   },
   "outputs": [
    {
     "ename": "FileNotFoundError",
     "evalue": "[Errno 2] No such file or directory: '220401-220901.pdf'",
     "output_type": "error",
     "traceback": [
      "\u001b[1;31m---------------------------------------------------------------------------\u001b[0m",
      "\u001b[1;31mFileNotFoundError\u001b[0m                         Traceback (most recent call last)",
      "Cell \u001b[1;32mIn[9], line 18\u001b[0m\n\u001b[0;32m     15\u001b[0m input_pdf_path \u001b[38;5;241m=\u001b[39m \u001b[38;5;124m\"\u001b[39m\u001b[38;5;124m220401-220901.pdf\u001b[39m\u001b[38;5;124m\"\u001b[39m\n\u001b[0;32m     16\u001b[0m keyword_to_search \u001b[38;5;241m=\u001b[39m \u001b[38;5;124m\"\u001b[39m\u001b[38;5;124m工资\u001b[39m\u001b[38;5;124m\"\u001b[39m\n\u001b[1;32m---> 18\u001b[0m extracted_text \u001b[38;5;241m=\u001b[39m \u001b[43mextract_text_by_keyword\u001b[49m\u001b[43m(\u001b[49m\u001b[43minput_pdf_path\u001b[49m\u001b[43m,\u001b[49m\u001b[43m \u001b[49m\u001b[43mkeyword_to_search\u001b[49m\u001b[43m)\u001b[49m\n\u001b[0;32m     19\u001b[0m \u001b[38;5;28mprint\u001b[39m(extracted_text)\n",
      "Cell \u001b[1;32mIn[9], line 6\u001b[0m, in \u001b[0;36mextract_text_by_keyword\u001b[1;34m(pdf_path, keyword)\u001b[0m\n\u001b[0;32m      3\u001b[0m \u001b[38;5;28;01mdef\u001b[39;00m \u001b[38;5;21mextract_text_by_keyword\u001b[39m(pdf_path, keyword):\n\u001b[0;32m      4\u001b[0m     text_content \u001b[38;5;241m=\u001b[39m \u001b[38;5;124m\"\u001b[39m\u001b[38;5;124m\"\u001b[39m\n\u001b[1;32m----> 6\u001b[0m     \u001b[38;5;28;01mwith\u001b[39;00m \u001b[43mpdfplumber\u001b[49m\u001b[38;5;241;43m.\u001b[39;49m\u001b[43mopen\u001b[49m\u001b[43m(\u001b[49m\u001b[43mpdf_path\u001b[49m\u001b[43m)\u001b[49m \u001b[38;5;28;01mas\u001b[39;00m pdf:\n\u001b[0;32m      7\u001b[0m         \u001b[38;5;28;01mfor\u001b[39;00m page \u001b[38;5;129;01min\u001b[39;00m pdf\u001b[38;5;241m.\u001b[39mpages:\n\u001b[0;32m      8\u001b[0m             page_text \u001b[38;5;241m=\u001b[39m page\u001b[38;5;241m.\u001b[39mextract_text()\n",
      "File \u001b[1;32m~\\AppData\\Local\\Programs\\Python\\Python311\\Lib\\site-packages\\pdfplumber\\pdf.py:84\u001b[0m, in \u001b[0;36mPDF.open\u001b[1;34m(cls, path_or_fp, pages, laparams, password, strict_metadata, repair)\u001b[0m\n\u001b[0;32m     82\u001b[0m     path \u001b[38;5;241m=\u001b[39m \u001b[38;5;28;01mNone\u001b[39;00m\n\u001b[0;32m     83\u001b[0m \u001b[38;5;28;01melif\u001b[39;00m \u001b[38;5;28misinstance\u001b[39m(path_or_fp, (\u001b[38;5;28mstr\u001b[39m, pathlib\u001b[38;5;241m.\u001b[39mPath)):\n\u001b[1;32m---> 84\u001b[0m     stream \u001b[38;5;241m=\u001b[39m \u001b[38;5;28;43mopen\u001b[39;49m\u001b[43m(\u001b[49m\u001b[43mpath_or_fp\u001b[49m\u001b[43m,\u001b[49m\u001b[43m \u001b[49m\u001b[38;5;124;43m\"\u001b[39;49m\u001b[38;5;124;43mrb\u001b[39;49m\u001b[38;5;124;43m\"\u001b[39;49m\u001b[43m)\u001b[49m\n\u001b[0;32m     85\u001b[0m     stream_is_external \u001b[38;5;241m=\u001b[39m \u001b[38;5;28;01mFalse\u001b[39;00m\n\u001b[0;32m     86\u001b[0m     path \u001b[38;5;241m=\u001b[39m pathlib\u001b[38;5;241m.\u001b[39mPath(path_or_fp)\n",
      "\u001b[1;31mFileNotFoundError\u001b[0m: [Errno 2] No such file or directory: '220401-220901.pdf'"
     ]
    }
   ],
   "source": [
    "import pdfplumber\n",
    "\n",
    "def extract_text_by_keyword(pdf_path, keyword):\n",
    "    text_content = \"\"\n",
    "\n",
    "    with pdfplumber.open(pdf_path) as pdf:\n",
    "        for page in pdf.pages:\n",
    "            page_text = page.extract_text()\n",
    "            if keyword in page_text:\n",
    "                text_content += page_text\n",
    "\n",
    "    return text_content\n",
    "\n",
    "if __name__ == \"__main__\":\n",
    "    input_pdf_path = \"220401-220901.pdf\"\n",
    "    keyword_to_search = \"工资\"\n",
    "\n",
    "    extracted_text = extract_text_by_keyword(input_pdf_path, keyword_to_search)\n",
    "    print(extracted_text)\n"
   ]
  },
  {
   "cell_type": "code",
   "execution_count": 4,
   "id": "7dc4b9a6",
   "metadata": {},
   "outputs": [
    {
     "data": {
      "text/plain": [
       "11505.599999999999"
      ]
     },
     "execution_count": 4,
     "metadata": {},
     "output_type": "execute_result"
    }
   ],
   "source": [
    "a = 23.97*0.8 # hourly\n",
    "b = a * 35 # weekly\n",
    "c = 4*30/7 # number of weeks\n",
    "d = c * b # total in 4 months\n",
    "3*5000*0.04/12\n",
    "d"
   ]
  }
 ],
 "metadata": {
  "kernelspec": {
   "display_name": "Python 3 (ipykernel)",
   "language": "python",
   "name": "python3"
  },
  "language_info": {
   "codemirror_mode": {
    "name": "ipython",
    "version": 3
   },
   "file_extension": ".py",
   "mimetype": "text/x-python",
   "name": "python",
   "nbconvert_exporter": "python",
   "pygments_lexer": "ipython3",
   "version": "3.11.2"
  }
 },
 "nbformat": 4,
 "nbformat_minor": 5
}
