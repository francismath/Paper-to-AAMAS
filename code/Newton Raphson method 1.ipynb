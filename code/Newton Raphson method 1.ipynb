{
 "cells": [
  {
   "cell_type": "code",
   "execution_count": 18,
   "id": "7d757951",
   "metadata": {
    "scrolled": true
   },
   "outputs": [
    {
     "name": "stdout",
     "output_type": "stream",
     "text": [
      "x[ 1 ]= [0.05326855 0.52988076 0.85853638]\n",
      "x[ 2 ]= [0.07568654 1.88990467 0.72034666]\n",
      "x[ 3 ]= [0.13308291 5.10723271 0.59358005]\n",
      "x[ 4 ]= [0.31444655 9.15645823 0.47380521]\n",
      "x[ 5 ]= [ 0.95169916 13.7872539   0.33756112]\n",
      "x[ 6 ]= [ 3.68845739 19.92747103  0.04277516]\n",
      "x[ 7 ]= [18.59532848 36.94801296 -1.67965742]\n",
      "x[ 8 ]= [148.44979488 405.46407531 -52.15569243]\n",
      "x[ 9 ]= [  7588.87112134 292279.89077264 -40907.63874893]\n",
      "x[ 10 ]= [ 4.51483452e+09  8.29340359e+11 -1.16107650e+11]\n",
      "x[ 11 ]= [ 1.18681741e+26  2.19104752e+28 -3.06746653e+27]\n",
      "x[ 12 ]= [ 3.89307102e+69  7.18720804e+71 -1.00620913e+71]\n",
      "x[ 13 ]= [ 8.08071213e+184  1.49182378e+187 -2.08855329e+186]\n",
      "x[ 14 ]= [nan nan nan]\n"
     ]
    },
    {
     "name": "stderr",
     "output_type": "stream",
     "text": [
      "C:\\Users\\enmao\\AppData\\Local\\Temp\\ipykernel_64704\\4115109016.py:43: RuntimeWarning: overflow encountered in double_scalars\n",
      "  m = kappa*x[0]**zeta*(x[0]*x[1])**(1-zeta)\n",
      "C:\\Users\\enmao\\AppData\\Local\\Temp\\ipykernel_64704\\4115109016.py:44: RuntimeWarning: invalid value encountered in double_scalars\n",
      "  return (n-x[0]-a)*(1+psi_e)/b*(1-2*psi_e/(1+psi_e)*(n-x[0]-a)/b)*w/x[2]*(x[2]-c)\\\n"
     ]
    }
   ],
   "source": [
    "# Newton Raphson method 1\n",
    "\n",
    "import sys, numpy as np, matplotlib.pyplot as plt\n",
    "\n",
    "s = 0.6 # the bargaining power of the workers\n",
    "psi_e = 0\n",
    "psi_u = 0.5\n",
    "psi_a = 1\n",
    "n = 1\n",
    "y_u = 0.4\n",
    "y_a = 0.4\n",
    "bar_p = 1\n",
    "y = 1\n",
    "c = 0.1\n",
    "delta = 0.1\n",
    "\n",
    "# let the matching function in labor market \n",
    "# m(u,v)=kappa*u**zeta*v**(1-zeta) \n",
    "# then q(theta) = m(u,v)/v = kappa*theta**(-zeta),f(theta) = m(u,v)/u = kappa*theta**(1-zeta) \n",
    "\n",
    "kappa = 0.5\n",
    "zeta = 0.35\n",
    "\n",
    "'''\n",
    "q = kappa* (theta) ** (-zeta)\n",
    "f = theta*q\n",
    "b = (n-u)*(1+psi_e)+u*(1+psi_u)+a*(1+psi_a)\n",
    "w = (1-s)*y_u + s*pi\n",
    "    \n",
    "'''\n",
    "\n",
    "# x = (u, theta, p)\n",
    "# profit = m(u,v)y*(p-c)-m(u,v)*w\n",
    "\n",
    "def func1(x):\n",
    "# use np.sign(a)*(np.abs(a))**(-zeta) to avoid Numpy not allowing fractional powers of negative numbers\n",
    "\n",
    "    return c-kappa*np.sign(x[1])*(np.abs(x[1]))**(-zeta)*(1-s)*(y*(x[2]-c)-y_u) \n",
    "\n",
    "def func2(x):\n",
    "    b = (n-x[0])*(1+psi_e)+x[0]*(1+psi_u)+a*(1+psi_a)\n",
    "    w = (1-s)*y_u + s*y*(x[2]-c)\n",
    "    m = kappa*x[0]**zeta*(x[0]*x[1])**(1-zeta)\n",
    "    return (n-x[0]-a)*(1+psi_e)/b*(1-2*psi_e/(1+psi_e)*(n-x[0]-a)/b)*w/x[2]*(x[2]-c)\\\n",
    "+x[0]*(1+psi_u)/b*(1-2*psi_u/(1+psi_u)*x[0]/b)*y_u/x[2]*(x[2]-c)\\\n",
    "+a*(1+psi_a)/b*(1-2*psi_a/(1+psi_a)*a/b)*y_a/x[2]*(x[2]-c)-m*y*(x[2]-c)+m*w\n",
    "\n",
    "def func3(x):\n",
    "    return x[0]*(1-kappa*np.sign(x[1])*(np.abs(x[1]))**(1-zeta))-(n-x[0]-a)*delta\n",
    "\n",
    "func = [func1, func2, func3]\n",
    "\n",
    "from autograd import grad, jacobian\n",
    "\n",
    "a = 0.5\n",
    "\n",
    "x = np.array([0.01,1,0.1], dtype=float)\n",
    "x_0 = x.copy()\n",
    "\n",
    "grad_func0 = grad(func1)\n",
    "grad_func1 = grad(func2)\n",
    "grad_func2 = grad(func3)\n",
    "\n",
    "jacobi = [grad_func0(x), grad_func1(x), grad_func2(x)]\n",
    "\n",
    "x_1 = x_0 - np.matmul(np.linalg.inv(jacobi),[func1(x_0), func2(x_0), func3(x_0)])\n",
    "error = np.linalg.norm(x_1-x_0)\n",
    "\n",
    "iteration = 0\n",
    "maxiteration = 10**2\n",
    "threshold = 10**(-2)\n",
    "t_0 = np.array([0.1, 0.5, 1], dtype=float)\n",
    "\n",
    "while error > threshold and (iteration < maxiteration):\n",
    "    iteration += 1\n",
    "    t_1 = t_0 - np.matmul(np.linalg.inv(jacobi),[func1(t_0), func2(t_0), func3(t_0)])\n",
    "    error = np.linalg.norm(t_1-t_0)\n",
    "    t_0 = t_1\n",
    "    print(\"x[\", iteration, ']=', t_0 )"
   ]
  },
  {
   "cell_type": "code",
   "execution_count": 13,
   "id": "bea8ad6e",
   "metadata": {},
   "outputs": [
    {
     "name": "stdout",
     "output_type": "stream",
     "text": [
      "x[ 1 ]= [0.16266813 7.88999054 0.08923496]\n",
      "x[ 2 ]= [ 0.49499876 13.08841939  0.06080514]\n",
      "x[ 3 ]= [ 1.89562986 18.62176395 -0.0353185 ]\n",
      "x[ 4 ]= [ 9.16290247 35.05195351 -1.64318938]\n",
      "x[ 5 ]= [ 70.49484941 214.50724849 -25.64975149]\n",
      "x[ 6 ]= [ 2114.69988637 46080.16681601 -6442.3475868 ]\n",
      "x[ 7 ]= [ 6.12309817e+07  1.09549139e+10 -1.53368779e+09]\n",
      "x[ 8 ]= [ 1.27690618e+21  2.35736494e+23 -3.30031091e+22]\n",
      "x[ 9 ]= [ 2.65764025e+56  4.90641278e+58 -6.86897789e+57]\n",
      "x[ 10 ]= [ 1.04253317e+150  1.92467662e+152 -2.69454727e+151]\n",
      "x[ 11 ]= [nan nan nan]\n"
     ]
    },
    {
     "name": "stderr",
     "output_type": "stream",
     "text": [
      "C:\\Users\\enmao\\AppData\\Local\\Temp\\ipykernel_64704\\4229268525.py:46: RuntimeWarning: overflow encountered in double_scalars\n",
      "  +a*(1+psi_a)/b*(1-2*psi_a/(1+psi_a)*a/b)*y_a/x[2]*(x[2]-c)-m*y*(x[2]-c)+m*w\n",
      "C:\\Users\\enmao\\AppData\\Local\\Temp\\ipykernel_64704\\4229268525.py:44: RuntimeWarning: invalid value encountered in double_scalars\n",
      "  return (n-x[0]-a)*(1+psi_e)/b*(1-2*psi_e/(1+psi_e)*(n-x[0]-a)/b)*w/x[2]*(x[2]-c)\\\n"
     ]
    }
   ],
   "source": []
  },
  {
   "cell_type": "code",
   "execution_count": 6,
   "id": "ed5a8a9e",
   "metadata": {},
   "outputs": [
    {
     "data": {
      "text/plain": [
       "[array([-10.,   0.]), array([  1., -10.])]"
      ]
     },
     "execution_count": 6,
     "metadata": {},
     "output_type": "execute_result"
    }
   ],
   "source": [
    "# Newton Raphson method 1\n",
    "# solving P236 ex. 16 in the book written by Qingyang Li\n",
    "\n",
    "import numpy as np, matplotlib.pyplot as plt\n",
    "from autograd import grad, jacobian\n",
    "\n",
    "def func1(x):\n",
    "# use np.sign(a)*(np.abs(a))**(-zeta) to avoid Numpy not allowing fractional powers of negative numbers\n",
    "\n",
    "    return (x[0])**2-10*x[0]+(x[1])**2+8\n",
    "\n",
    "def func2(x):\n",
    "\n",
    "    return x[0]*(x[1])**2+x[0]-10*x[1]+8\n",
    "\n",
    "func = [func1, func2]\n",
    "\n",
    "\n",
    "x = np.array([0, 0], dtype=float)\n",
    "x_0 = x.copy()\n",
    "\n",
    "grad_func0 = grad(func1)\n",
    "grad_func1 = grad(func2)\n",
    "\n",
    "jacobi = [grad_func0(x), grad_func1(x)]\n",
    "\n",
    "x_1 = x_0 - np.matmul(np.linalg.inv(jacobi),[func1(x_0), func2(x_0)])\n",
    "\n",
    "jacobi"
   ]
  },
  {
   "cell_type": "code",
   "execution_count": 7,
   "id": "e4fc3fc5",
   "metadata": {},
   "outputs": [
    {
     "name": "stdout",
     "output_type": "stream",
     "text": [
      "x[ 1 ]= [0.8  0.88]\n",
      "x[ 2 ]= [0.94144  0.956096]\n",
      "x[ 3 ]= [0.98004288 0.98406316]\n",
      "x[ 4 ]= [0.99288644 0.99419407]\n",
      "x[ 5 ]= [0.99742453 0.99788152]\n"
     ]
    }
   ],
   "source": [
    "iteration = 0\n",
    "maxiteration = 10**2\n",
    "threshold = 10**(-2)\n",
    "error = 10**3\n",
    "t_0 = np.array([0,0], dtype=float)\n",
    "\n",
    "while error > threshold and (iteration < maxiteration):\n",
    "    iteration += 1\n",
    "    t_1 = t_0 - np.matmul(np.linalg.inv(jacobi),[func1(t_0), func2(t_0)])\n",
    "    error = np.linalg.norm(t_1-t_0)\n",
    "    t_0 = t_1\n",
    "    print(\"x[\", iteration, ']=', t_0 )"
   ]
  }
 ],
 "metadata": {
  "kernelspec": {
   "display_name": "Python 3 (ipykernel)",
   "language": "python",
   "name": "python3"
  },
  "language_info": {
   "codemirror_mode": {
    "name": "ipython",
    "version": 3
   },
   "file_extension": ".py",
   "mimetype": "text/x-python",
   "name": "python",
   "nbconvert_exporter": "python",
   "pygments_lexer": "ipython3",
   "version": "3.11.2"
  }
 },
 "nbformat": 4,
 "nbformat_minor": 5
}
