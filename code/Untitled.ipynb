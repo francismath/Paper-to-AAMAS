{
 "cells": [
  {
   "cell_type": "code",
   "execution_count": null,
   "id": "cc4d2743",
   "metadata": {},
   "outputs": [],
   "source": [
    "import random\n",
    "from random import randint\n",
    "import matplotlib\n",
    "matplotlib.use('TkAgg')\n",
    "from pylab import *\n",
    "\n",
    "n = 10\n",
    "r = 0.1\n",
    "th = 0.5\n",
    "\n",
    "class agent:  #attribute of agents' type\n",
    "    pass\n",
    "\n",
    "def initial():\n",
    "    global agents\n",
    "    agents = []\n",
    "    for i in range(n):\n",
    "        ag = agent()\n",
    "        ag.type = randint(0, 1) # type 0 or 1 for an agent\n",
    "        # x y are the spatial position of the agent \n",
    "        ag.x = random.random() \n",
    "        ag.y = random.random()\n",
    "        agents.append(ag)\n",
    "        \n",
    "def observe():\n",
    "    global agents\n",
    "    cla() # to clear the visualiztion space\n",
    "    white = [ag for ag in agents if ag.type == 0]\n",
    "    black = [ag for ag in agents if ag.type == 1]\n",
    "    plot([ag.x for ag in white], [ag.y for ag in white], 'wo')\n",
    "    plot([ag.x for ag in black], [ag.y for ag in black], 'ko')\n",
    "    axis('image')\n",
    "    axis([0, 1, 0, 1])\n",
    "\n",
    "    \n",
    "def update(): # update system states for one discrete time step \n",
    "    global agents\n",
    "    ag = agents[randint(n)]\n",
    "    neighbors = [neig for neig in agents\n",
    "             if (neig.x-ag.x)**2 + (neig.y-ag.y)**2 < r**2 and neig != ag]\n",
    "    if len(neighbors) > 0:\n",
    "        q = len([neig for neig in neighbors if nb.type == ag.type]) \\\n",
    "            / float(len(neighbors))\n",
    "        if q < th:\n",
    "            ag.x, ag.y = random(), random()\n",
    "\n",
    "import pycxsimulator\n",
    "otcxsimulator.GUI().start(func = [initial, observe, update])\n"
   ]
  }
 ],
 "metadata": {
  "kernelspec": {
   "display_name": "Python 3 (ipykernel)",
   "language": "python",
   "name": "python3"
  },
  "language_info": {
   "codemirror_mode": {
    "name": "ipython",
    "version": 3
   },
   "file_extension": ".py",
   "mimetype": "text/x-python",
   "name": "python",
   "nbconvert_exporter": "python",
   "pygments_lexer": "ipython3",
   "version": "3.11.2"
  }
 },
 "nbformat": 4,
 "nbformat_minor": 5
}
