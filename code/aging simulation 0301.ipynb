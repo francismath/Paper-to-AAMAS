{
 "cells": [
  {
   "cell_type": "code",
   "execution_count": null,
   "metadata": {},
   "outputs": [],
   "source": [
    "class customer:\n",
    "    def __init__(self, age):\n",
    "        self.shop = random.randint(1,2)# i represents i search(es) for i=1,2 \n",
    "        self.age = age\n",
    "        \n",
    "#        if agent.age > 15 and agent.age <= 80:\n",
    "#            population.append(agent)\n",
    "#        if agent.age > 80:\n",
    "#            population.remove(agent)\n",
    "        '''assume among the 4 types of consumers, [r,1],[r,2],[la,1],[la,2]\n",
    "        only [la,1] and [r,2] exist, which means labor force only do one search\n",
    "        and the retired do two searches\n",
    "        '''\n",
    "        \n",
    "        if agent[0] == 'la' and agent[1] == '2 searches':\n",
    "            population.remove(agent)\n",
    "        if agent[0] == 'retired' and agent[1] == '1 search':\n",
    "            population.remove(agent)\n",
    "\n",
    "  "
   ]
  },
  {
   "cell_type": "code",
   "execution_count": 29,
   "metadata": {},
   "outputs": [
    {
     "data": {
      "text/plain": [
       "'h'"
      ]
     },
     "execution_count": 29,
     "metadata": {},
     "output_type": "execute_result"
    }
   ],
   "source": [
    "\"\"\"Assumptions\n",
    "1. The birth rate is equal to the mortality rate, \n",
    "so the total population remains a constant\n",
    "2. The newborns directly enter the labor market as a labor force\n",
    "3. All firms produce and sell the same product but with integer pricing \n",
    "ranging from 1 to 100\n",
    "4. young consumers will only do one search, here we don't take unemployed\n",
    "or women who usually have the shopping propensity of two searches. \n",
    "4. The firms first post their individual prices. \n",
    "\n",
    "If here comes a consumer with one search, a product-consumer \n",
    "pair is formed, whether the consumer is working or not. \n",
    "\n",
    "If the consumer has propensity of two search, \n",
    "then her action depends on the time of her search: \n",
    "if it's her first time searching, she would do a second search.\n",
    "if it's indeed the second time searching, she will compare the prices \n",
    "between the two posted prices, and make a deal with the firm posting \n",
    "lower price.\n",
    "\n",
    "So if the consumer is flexible and has a different variant than the producer, we want to update the listener's vowel based on the producer's vowel.\n",
    "\n",
    "To do this, we'll need to use a function called \"deepcopy\" to make a copy of the producer rather than pointing to the producer itself, because otherwise Python will have these two agents linked togeher forever. This is of course unwanted, since we want to update the listener only once based on a single interaction. Therefore, we'll use function called \"deepcopy\", which basically does what we want except for not linking the actual agents together.\n",
    "\"\"\"\n",
    "# setting the properties of a typical agent\n",
    "     \n",
    "\n",
    "age = ['retired', 'labor'] # consumer's age, retired or labor force\n",
    "\n",
    "shop_prop = ['1 search', '2 searches'] # shopping propensity of a typical agent, some may only buy the product after one search, others may make purchase decision after multiply searches \n",
    "\n",
    "sell_price = ['h', 'l'] # selling price could be high or low\n",
    "# produce the agents of consumer with two attributes: their age and shopping propensity\n",
    "def consumer(age, shop_pro):\n",
    "\n",
    "    return [age, shop_pro]\n",
    "\n",
    "# produce the agents of firm with attribute of the selling price\n",
    "def firm(sell_price):\n",
    "\n",
    "    return sell_price\n",
    "\n",
    "# we can produce a working agent with shopping propensity of 2 searches\n",
    "\n",
    "a0 = consumer(age[1], shop_prop[1])\n",
    "a1 = firm(sell_price[0])\n",
    "a1"
   ]
  },
  {
   "cell_type": "code",
   "execution_count": 39,
   "metadata": {
    "scrolled": true
   },
   "outputs": [
    {
     "name": "stdout",
     "output_type": "stream",
     "text": [
      "[['retired', '1 search'], 'l', ['labor', '2 searches'], 'h', ['labor', '2 searches'], 'h', ['retired', '1 search'], 'l', ['retired', '1 search'], 'l', ['retired', '2 searches'], 'h', ['retired', '2 searches'], 'l', ['retired', '2 searches'], 'h', ['labor', '2 searches'], 'l', ['labor', '2 searches'], 'h', ['labor', '2 searches'], 'h', ['labor', '2 searches'], 'h', ['labor', '2 searches'], 'l', ['retired', '1 search'], 'h', ['retired', '2 searches'], 'h', ['retired', '2 searches'], 'h', ['retired', '1 search'], 'h', ['labor', '1 search'], 'l', ['labor', '1 search'], 'h', ['retired', '1 search'], 'h']\n"
     ]
    },
    {
     "data": {
      "text/plain": [
       "1"
      ]
     },
     "execution_count": 39,
     "metadata": {},
     "output_type": "execute_result"
    }
   ],
   "source": [
    "# produce N randomly selected people in the environment\n",
    "import random\n",
    "\n",
    "def prod_pop(N):#produce population of N people\n",
    "    \n",
    "    population = []\n",
    "    \n",
    "    for person in range(N):\n",
    "        \n",
    "        ws = random.choice(age)\n",
    "        \n",
    "        sp = random.choice(shop_prop)\n",
    "        \n",
    "        agent1 = consumer(ws, sp)\n",
    "        \n",
    "        agent2 = firm(random.choice(sell_price)) \n",
    "        \n",
    "        population.extend([agent1,agent2])\n",
    "        \n",
    "             \n",
    "    return population\n",
    "\n",
    "population = prod_pop(20)\n",
    "print(population)\n",
    "len(population[1])"
   ]
  },
  {
   "cell_type": "code",
   "execution_count": 48,
   "metadata": {},
   "outputs": [
    {
     "name": "stdout",
     "output_type": "stream",
     "text": [
      "This is total population:  [['retired', '1 search'], 'l', ['labor', '2 searches'], 'h', ['labor', '2 searches'], 'h', ['retired', '1 search'], 'l', ['retired', '1 search'], 'l', ['retired', '2 searches'], 'h', ['retired', '2 searches'], 'l', ['retired', '2 searches'], 'h', ['labor', '2 searches'], 'l', ['labor', '2 searches'], 'h', ['labor', '2 searches'], 'h', ['labor', '2 searches'], 'h', ['labor', '2 searches'], 'l', ['retired', '1 search'], 'h', ['retired', '2 searches'], 'h', ['retired', '2 searches'], 'h', ['retired', '1 search'], 'h', ['labor', '1 search'], 'l', ['labor', '1 search'], 'h', ['retired', '1 search'], 'h']\n",
      "This is a buyer:  ['retired', '1 search']\n",
      "This is a sellor:  h\n"
     ]
    }
   ],
   "source": [
    "def matching(population):\n",
    "    i = random.randint(0, len(population)-1)\n",
    "    j = random.randint(0, len(population)-1)\n",
    "    \n",
    "    while len(population[i]) == len(population[j]):\n",
    "        j = random.randint(0, len(population)-1)\n",
    "    \n",
    "    if (len(population[i]) > len(population[j])):\n",
    "        buyer = population[i]\n",
    "        sellor = population[j]\n",
    "    else:\n",
    "        buyer = population[j]\n",
    "        sellor = population[i]\n",
    "\n",
    "    return [buyer, sellor]\n",
    "\n",
    "[buyer, sellor] = matching(population)\n",
    "\n",
    "print('This is total population: ', population)\n",
    "print('This is a buyer: ', buyer)\n",
    "print('This is a sellor: ', sellor)\n"
   ]
  },
  {
   "cell_type": "code",
   "execution_count": null,
   "metadata": {},
   "outputs": [],
   "source": [
    "# price determined"
   ]
  },
  {
   "cell_type": "code",
   "execution_count": 34,
   "metadata": {},
   "outputs": [
    {
     "data": {
      "text/plain": [
       "'100.00%'"
      ]
     },
     "execution_count": 34,
     "metadata": {},
     "output_type": "execute_result"
    }
   ],
   "source": [
    "# calculate the senior demographic dependency ratio\n",
    "def dep_ratio(population):\n",
    "    ret = 0 # initial number of the retired   \n",
    "    for agent in population:\n",
    "        if agent[0] == 'retired':\n",
    "            ret += 1\n",
    "    dep_ratio = ret/(len(population)-ret)\n",
    "    return \"{0:.2f}%\".format(ret / (len(population)-ret) * 100)\n",
    "\n"
   ]
  },
  {
   "cell_type": "code",
   "execution_count": null,
   "metadata": {},
   "outputs": [],
   "source": [
    "def pop_dyn():# population dynamics\n",
    "    '''\n",
    "    A consumer over 15 years old works and begins shopping\n",
    "    anyone over 80 years old dies\n",
    "    ''' \n",
    "    consumer = 0\n",
    "    for person in population:\n",
    "        if person.age > 15 and person.age <= 80:\n",
    "            consumer +=1\n",
    "        if person.age > 80:\n",
    "            population.remove(person)\n",
    "        else:\n",
    "            person.age +=1"
   ]
  }
 ],
 "metadata": {
  "kernelspec": {
   "display_name": "Python 3 (ipykernel)",
   "language": "python",
   "name": "python3"
  },
  "language_info": {
   "codemirror_mode": {
    "name": "ipython",
    "version": 3
   },
   "file_extension": ".py",
   "mimetype": "text/x-python",
   "name": "python",
   "nbconvert_exporter": "python",
   "pygments_lexer": "ipython3",
   "version": "3.11.2"
  }
 },
 "nbformat": 4,
 "nbformat_minor": 4
}
