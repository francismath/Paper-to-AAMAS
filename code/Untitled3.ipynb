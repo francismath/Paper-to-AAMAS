{
 "cells": [
  {
   "cell_type": "code",
   "execution_count": 6,
   "id": "3188d562",
   "metadata": {},
   "outputs": [
    {
     "data": {
      "text/plain": [
       "[<__main__.person at 0x1900d7a5810>]"
      ]
     },
     "execution_count": 6,
     "metadata": {},
     "output_type": "execute_result"
    }
   ],
   "source": [
    "import random\n",
    "\n",
    "startPopulation = 50\n",
    "infantMortality = 5\n",
    "\n",
    "#fertilityx = 18\n",
    "#fertilityy = 35\n",
    "population = []\n",
    "\n",
    "class person:\n",
    "    def __init__(self, age):\n",
    "        self.gender = random.randint(0,1)\n",
    "        self.age = age\n",
    "        self.pregnant = 0\n",
    "\n",
    "def spawm(birth_rate):\n",
    "    for person in population:\n",
    "        if random.randint(0,5)==1:\n",
    "            population.append(person(0))\n",
    "                        \n",
    "def beginSim():\n",
    "    for x in range(startPopulation):\n",
    "        population.append(person(random.randint(16,64)))\n",
    "        return population\n",
    "\n",
    "def pop_dyn(birth_rate, ret_mortality):\n",
    "    for person in population:\n",
    "        if person.age > 80:\n",
    "            population.remove(person)\n",
    "        else:\n",
    "            person.age +=1\n",
    "    \n",
    "    print(len(population))\n",
    "        \n",
    "    return infantMortality\n",
    "\n",
    "beginSim()"
   ]
  },
  {
   "cell_type": "code",
   "execution_count": 7,
   "id": "dd840276",
   "metadata": {},
   "outputs": [
    {
     "name": "stdout",
     "output_type": "stream",
     "text": [
      "Enter your name: Giraffe\n"
     ]
    }
   ],
   "source": [
    "name = input('Enter your name: ')"
   ]
  },
  {
   "cell_type": "code",
   "execution_count": 11,
   "id": "f89e0c64",
   "metadata": {},
   "outputs": [
    {
     "data": {
      "text/plain": [
       "27"
      ]
     },
     "execution_count": 11,
     "metadata": {},
     "output_type": "execute_result"
    }
   ],
   "source": [
    "def cube(num):\n",
    "    return num**3\n",
    "\n",
    "cube(3)"
   ]
  }
 ],
 "metadata": {
  "kernelspec": {
   "display_name": "Python 3 (ipykernel)",
   "language": "python",
   "name": "python3"
  },
  "language_info": {
   "codemirror_mode": {
    "name": "ipython",
    "version": 3
   },
   "file_extension": ".py",
   "mimetype": "text/x-python",
   "name": "python",
   "nbconvert_exporter": "python",
   "pygments_lexer": "ipython3",
   "version": "3.11.2"
  }
 },
 "nbformat": 4,
 "nbformat_minor": 5
}
