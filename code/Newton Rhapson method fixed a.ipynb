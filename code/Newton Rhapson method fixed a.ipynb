{
 "cells": [
  {
   "cell_type": "code",
   "execution_count": 28,
   "id": "285eafbe",
   "metadata": {},
   "outputs": [
    {
     "name": "stdout",
     "output_type": "stream",
     "text": [
      "0\n",
      "[[-27.115949  ]\n",
      " [ -2.26715842]\n",
      " [-17.52424952]]\n",
      "---\n",
      "x_new[ 0 ]: [[-7.115949  ]\n",
      " [17.73284158]\n",
      " [ 2.47575048]]\n",
      "1\n",
      "[[  8.55410518]\n",
      " [-28.75658674]\n",
      " [ -0.51817998]]\n",
      "---\n",
      "x_new[ 1 ]: [[  1.43815618]\n",
      " [-11.02374516]\n",
      " [  1.9575705 ]]\n",
      "2\n",
      "[[nan]\n",
      " [nan]\n",
      " [nan]]\n",
      "---\n",
      "x_new[ 2 ]: [[nan]\n",
      " [nan]\n",
      " [nan]]\n"
     ]
    },
    {
     "name": "stderr",
     "output_type": "stream",
     "text": [
      "C:\\Users\\enmao\\AppData\\Local\\Temp\\ipykernel_9700\\3128720689.py:26: RuntimeWarning: invalid value encountered in power\n",
      "  func1 = lambda x: c-kappa*x[1]**(-zeta)*(1-s)*(x[2]-y_u)\n",
      "C:\\Users\\enmao\\AppData\\Local\\Temp\\ipykernel_9700\\3128720689.py:35: RuntimeWarning: invalid value encountered in power\n",
      "  func3 = lambda x: x[0]-n*(1-kappa*x[1]**(1-zeta))+(n-x[0])*s\n"
     ]
    },
    {
     "data": {
      "image/png": "[encoded data removed]",
      "text/plain": [
       "<Figure size 640x480 with 1 Axes>"
      ]
     },
     "metadata": {},
     "output_type": "display_data"
    }
   ],
   "source": [
    "#plot large range of a, then zoom in some smaller range\n",
    "# multivariate Newton Rhapson method to solve nonlinear system\n",
    "import autograd.numpy as np\n",
    "from autograd import grad, jacobian\n",
    "\n",
    "import matplotlib.pyplot as plt\n",
    "\n",
    "n = 1\n",
    "a = 0.4\n",
    "s = 0.6 # the bargaining power of the workers\n",
    "psi_e = 0\n",
    "psi_u = 0.5\n",
    "psi_a = 1\n",
    "n = 1\n",
    "y_u = 0.4\n",
    "y_a = 0.4\n",
    "bar_p = 1\n",
    "c = 0.2\n",
    "# let the matching function in labor market \n",
    "# m(u,v)=kappa*u**zeta*v**(1-zeta) \n",
    "kappa = 0.5\n",
    "zeta = 0.35\n",
    "\n",
    "#b = lambda x: (n-x[0])*(1+psi_e)+x[0]*(1+psi_u)+a*(1+psi_a)\n",
    "# w = (1-s)*y_u + s*x[2]\n",
    "\n",
    "func1 = lambda x: c-kappa*x[1]**(-zeta)*(1-s)*(x[2]-y_u)\n",
    "func2 = lambda x: ((n-x[0])*(1+psi_e)*(1-2*psi_e/(1+psi_e)*(n-x[0])/\\\n",
    "                                       ((n-x[0])*(1+psi_e)+x[0]*(1+psi_u)+a*(1+psi_a)))\n",
    "                   *((1-s)*y_u + s*x[2])/bar_p*(bar_p-c)\\\n",
    "                   +x[0]*(1+psi_u)*(1-2*psi_u/(1+psi_u)*(n-x[0])/\\\n",
    "                                  ((n-x[0])*(1+psi_e)+x[0]*(1+psi_u)+a*(1+psi_a)))\\\n",
    "                *y_u/bar_p*(bar_p-c)\\\n",
    "+a*(1+psi_a)*(1-2*psi_a/(1+psi_a)*(n-x[0])/((n-x[0])*(1+psi_e)+x[0]*(1+psi_u)+a*(1+psi_a)))\\\n",
    "*y_a/bar_p*(bar_p-c))/((n-x[0])*(1+psi_e)+x[0]*(1+psi_u)+a*(1+psi_a))-x[2]\n",
    "func3 = lambda x: x[0]-n*(1-kappa*x[1]**(1-zeta))+(n-x[0])*s\n",
    "\n",
    "#for i in range(3):\n",
    "jac_func1 = jacobian(func1)\n",
    "jac_func2 = jacobian(func2)\n",
    "jac_func3 = jacobian(func3)\n",
    "\n",
    "i = 0\n",
    "error =100\n",
    "tol = 10**(-4)\n",
    "maxiter = 10**2\n",
    "M = 3\n",
    "N = 3\n",
    "x_0 = np.array([20,20,20],dtype=float).reshape(N,1)\n",
    "\n",
    "unemp = []\n",
    "tight_labor = []\n",
    "net_profit = []\n",
    "aging = []\n",
    "\n",
    "for a in np.arange(0.01, 1, 0.1):\n",
    "    while np.any(abs(error) > tol) and i < maxiter:\n",
    "        fun_evaluate = np.array([func1(x_0), func2(x_0), func3(x_0)]).reshape(M,1)\n",
    "        flat_x_0 = x_0.flatten()\n",
    "\n",
    "        jac = np.array([jac_func1(flat_x_0), jac_func2(flat_x_0),jac_func3(flat_x_0)])\n",
    "        jac = jac.reshape(N,M)\n",
    "\n",
    "        x_new = x_0 - np.linalg.inv(jac)@fun_evaluate\n",
    "\n",
    "        error = x_new - x_0\n",
    "\n",
    "        x_0 = x_new\n",
    "        print(i)\n",
    "        print(error)\n",
    "        print('---')\n",
    "        print('x_new[',i, ']:', x_new)\n",
    "        \n",
    "        i += 1\n",
    "        \n",
    "        unemp.append(x_new[0])\n",
    "        aging.append(a)\n",
    "        \n",
    "plt.figure()\n",
    "#plt.subplot(211)\n",
    "plt.plot(aging, unemp)\n",
    "plt.xlabel('Aged Dependency Ratio')\n",
    "plt.ylabel('Unemployment Rate')\n",
    "\n",
    "plt.show()"
   ]
  },
  {
   "cell_type": "code",
   "execution_count": 23,
   "id": "4e455d14",
   "metadata": {},
   "outputs": [
    {
     "data": {
      "text/plain": [
       "[array([-1.57480712]),\n",
       " array([-1.36354511]),\n",
       " array([-1.10258958]),\n",
       " array([-0.8141161]),\n",
       " array([-0.56824526]),\n",
       " array([-0.43761832]),\n",
       " array([-0.40936787]),\n",
       " array([-0.40825935]),\n",
       " array([-0.40825772])]"
      ]
     },
     "execution_count": 23,
     "metadata": {},
     "output_type": "execute_result"
    }
   ],
   "source": [
    "unemp"
   ]
  }
 ],
 "metadata": {
  "kernelspec": {
   "display_name": "Python 3 (ipykernel)",
   "language": "python",
   "name": "python3"
  },
  "language_info": {
   "codemirror_mode": {
    "name": "ipython",
    "version": 3
   },
   "file_extension": ".py",
   "mimetype": "text/x-python",
   "name": "python",
   "nbconvert_exporter": "python",
   "pygments_lexer": "ipython3",
   "version": "3.11.2"
  }
 },
 "nbformat": 4,
 "nbformat_minor": 5
}
