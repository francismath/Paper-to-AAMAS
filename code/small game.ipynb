{
 "cells": [
  {
   "cell_type": "code",
   "execution_count": null,
   "id": "a4b29462",
   "metadata": {},
   "outputs": [],
   "source": []
  },
  {
   "cell_type": "code",
   "execution_count": 2,
   "id": "06be87f6",
   "metadata": {},
   "outputs": [
    {
     "data": {
      "text/plain": [
       "6431.72"
      ]
     },
     "execution_count": 2,
     "metadata": {},
     "output_type": "execute_result"
    }
   ],
   "source": [
    "# summer 23 balance\n",
    "#-1911.38 + (-3400) = 5311.38\n",
    "\n",
    "# fall 23 tuition\n",
    "#11743.10\n",
    "\n",
    "# fall 23 balance\n",
    "11743.10 - 5311.38 = 6431.72"
   ]
  }
 ],
 "metadata": {
  "kernelspec": {
   "display_name": "Python 3 (ipykernel)",
   "language": "python",
   "name": "python3"
  },
  "language_info": {
   "codemirror_mode": {
    "name": "ipython",
    "version": 3
   },
   "file_extension": ".py",
   "mimetype": "text/x-python",
   "name": "python",
   "nbconvert_exporter": "python",
   "pygments_lexer": "ipython3",
   "version": "3.11.2"
  }
 },
 "nbformat": 4,
 "nbformat_minor": 5
}
